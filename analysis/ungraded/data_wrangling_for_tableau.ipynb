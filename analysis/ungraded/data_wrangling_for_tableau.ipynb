{
 "cells": [
  {
   "attachments": {},
   "cell_type": "markdown",
   "metadata": {},
   "source": [
    "#### I copied and pasted the data wrangling from milestone 4 here to export into a csv for Tableau. I wanted to keep it separate for organizational purposes"
   ]
  },
  {
   "cell_type": "code",
   "execution_count": 1,
   "metadata": {},
   "outputs": [
    {
     "name": "stderr",
     "output_type": "stream",
     "text": [
      "c:\\Users\\patri\\Desktop\\UBC Stuff\\Year 3\\DATA 301\\project-group29\\analysis\\ungraded\\../code\\project_functions1.py:27: FutureWarning: The default dtype for empty Series will be 'object' instead of 'float64' in a future version. Specify a dtype explicitly to silence this warning.\n",
      "  jitteredHPD = pd.Series()\n"
     ]
    }
   ],
   "source": [
    "import sys\n",
    "import pandas as pd\n",
    "import numpy as np\n",
    "\n",
    "sys.path.append('../code/')\n",
    "\n",
    "import project_functions1       # loads loadAndProcess() and rAndPValue()\n",
    "\n",
    "project_functions1.loadAndProcess(\"../../data/raw/mxmh_survey_results.csv\").to_csv(\"../../data/processed/wrangled_data_for_tableau\")\n"
   ]
  }
 ],
 "metadata": {
  "kernelspec": {
   "display_name": "Python 3",
   "language": "python",
   "name": "python3"
  },
  "language_info": {
   "codemirror_mode": {
    "name": "ipython",
    "version": 3
   },
   "file_extension": ".py",
   "mimetype": "text/x-python",
   "name": "python",
   "nbconvert_exporter": "python",
   "pygments_lexer": "ipython3",
   "version": "3.10.6"
  },
  "orig_nbformat": 4
 },
 "nbformat": 4,
 "nbformat_minor": 2
}
