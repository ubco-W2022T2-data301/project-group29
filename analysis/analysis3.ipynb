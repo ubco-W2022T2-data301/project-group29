{
 "cells": [
  {
   "cell_type": "code",
   "execution_count": null,
   "id": "a0c0ad62-38ce-4133-9e4b-af1d876b880c",
   "metadata": {},
   "outputs": [],
   "source": [
    "import numpy as pd"
   ]
  },
  {
   "cell_type": "code",
   "execution_count": null,
   "id": "714b70a0-0ac2-48c5-b269-3c4c13e5123c",
   "metadata": {},
   "outputs": [],
   "source": [
    "import pandas as pd"
   ]
  },
  {
   "cell_type": "markdown",
   "id": "c50d66c6-115e-46fa-b0fe-b079a036470b",
   "metadata": {},
   "source": [
    "# How is a person’s self-reported level of anxiety and depression affected by the tempo of the music they listen to?"
   ]
  },
  {
   "cell_type": "code",
   "execution_count": null,
   "id": "b496b41e-f5e0-4d9c-95c8-4e8a6b5d1853",
   "metadata": {},
   "outputs": [],
   "source": [
    "pd.read_csv(\"./../data/raw/mxmh_survey_results.csv\")"
   ]
  },
  {
   "cell_type": "markdown",
   "id": "c5199a47-7f37-46a9-bf9c-e48d6234e010",
   "metadata": {},
   "source": [
    "I really have three variables present in my research question: 1. Anxiety, 2. Depression, and 3. Tempo. I will likely have to remove many of the columns as they will not be relevant. Also, while I did not see many null data points, there were still a few and I need to remove those. As far as visualizations go, I am not very familiar with the capabilities of the software we will be using so I am not sure what I will have to work with."
   ]
  },
  {
   "cell_type": "markdown",
   "id": "3b48745e-36fa-4787-8994-9aa303ba6d70",
   "metadata": {},
   "source": [
    "- first data is exploratory, axniety levels affect by music -- yes or not\n",
    "- second layer, if yes than how does it affect, by spneidng more time, or other"
   ]
  },
  {
   "cell_type": "markdown",
   "id": "f60144cc-8f4c-44b6-866a-6245b34443f4",
   "metadata": {},
   "source": [
    "<div align = 'center'><b> Potentially different questions? - Feedback said the original question was too vague </b></div>\n",
    "\n",
    "- How are the frequency of listening to music genres, as well as ages of respondents, concentrated across different streaming services?\n",
    "    - streaming services\n",
    "    - Frequency of genre\n",
    "    - Primary genre\n",
    "    - Age\n",
    "    \n",
    "    Data could also be incorporated for more complex genres, bpm can be compared to genre to determine the style of music, for example trip hop, hardcore rap, etc.\n",
    "\n",
    "- What kind of person listens to pop music?\n",
    "    - Genre\n",
    "    - frequency\n",
    "    - composer\n",
    "    - instrumentalist\n",
    "    - age \n",
    "    - streaming service\n",
    "    - foreign language\n",
    "    - anxiety\n",
    "    - ocd\n",
    "    - insomnia\n",
    "\n",
    "- Which genres of music are listened to during work?\n",
    "- How is bpm distributed accross genres, or which kind of music listeners listen to high bpm music?\n",
    "- How do genres of music use bpm?\n",
    "- Mental health differences across genres/bpm\n",
    "- How does participants age affect genre or streaming service selection?"
   ]
  },
  {
   "cell_type": "code",
   "execution_count": null,
   "id": "4292d45f-0593-478a-a3c8-feabdc3bd331",
   "metadata": {},
   "outputs": [],
   "source": [
    "#Import Libraries\n",
    "\n",
    "import numpy as np\n",
    "import pandas as pd\n",
    "import matplotlib.pylab as plt\n",
    "import seaborn as sns#Understanding my variables\n",
    "\n",
    "df = pd.read_csv(\"./../data/raw/mxmh_survey_results.csv\")\n",
    "\n",
    "df.shape\n",
    "df.head()\n",
    "df.columns"
   ]
  },
  {
   "cell_type": "code",
   "execution_count": null,
   "id": "6ddc7e36-5c13-41b0-b44b-70408c69a653",
   "metadata": {},
   "outputs": [],
   "source": [
    "df.nunique(axis=0)\n",
    "df.describe().apply(lambda s: s.apply(lambda x: format(x, 'f')))"
   ]
  },
  {
   "cell_type": "code",
   "execution_count": null,
   "id": "1e5a587b-60c5-4fe6-be49-557ce27452a0",
   "metadata": {},
   "outputs": [],
   "source": [
    "df_cleaned = df[[\"Fav genre\", \"Age\"]]\n"
   ]
  },
  {
   "cell_type": "code",
   "execution_count": null,
   "id": "16b21cb7-1d15-427e-9a36-79c98596f1c0",
   "metadata": {},
   "outputs": [],
   "source": [
    "df_cleaned"
   ]
  },
  {
   "cell_type": "code",
   "execution_count": null,
   "id": "02b7807e-1218-4173-97d2-c24b45878032",
   "metadata": {},
   "outputs": [],
   "source": [
    "df_cleaned.dropna()"
   ]
  },
  {
   "cell_type": "code",
   "execution_count": null,
   "id": "186ed10c-511d-4e4c-ad5e-85dab6c5679e",
   "metadata": {},
   "outputs": [],
   "source": [
    "df_cleaned = df_cleaned.dropna(axis=0)\n"
   ]
  },
  {
   "cell_type": "code",
   "execution_count": null,
   "id": "0dff6c9d-aeb6-4689-9c3c-d6a77a9e85a9",
   "metadata": {},
   "outputs": [],
   "source": [
    "sns.scatterplot( x = \"Fav genre\", \n",
    "                 y = \"Age\", \n",
    "                 data = df_cleaned,)\n",
    "sns.set(font_scale=2)\n",
    "\n",
    "\n",
    "fig.set_size_inches(30, 6)\n",
    "\n",
    "\n",
    "plt.show()"
   ]
  },
  {
   "cell_type": "code",
   "execution_count": null,
   "id": "c274da7c-94ff-415f-a425-1379595effc3",
   "metadata": {},
   "outputs": [],
   "source": [
    "sns.set(font_scale=.5)\n",
    "sns.histplot(y = \"Age\", x = \"Fav genre\", data = df_cleaned)\n"
   ]
  },
  {
   "cell_type": "code",
   "execution_count": null,
   "id": "36077923-7673-43eb-8509-b9480e93484e",
   "metadata": {},
   "outputs": [],
   "source": [
    "sns.barplot(x = \"Fav genre\", y = \"Age\", data = df_cleaned)"
   ]
  },
  {
   "cell_type": "markdown",
   "id": "77b615b0-7b78-495a-9131-981d479c265a",
   "metadata": {},
   "source": [
    "### Notes\n",
    "- We can see that Gospel slants older\n",
    "    - Not super surprising, I do not know any young people that listen to Gospel\n",
    "- The most variety of listeners in age comes from Rock music\n",
    "    - Makes sense as there are a lot of sub genres in Rock that span many decades (pop rock, punk, grunge, hair rock, etc.)\n",
    "- High concentration of young listeners of pop music\n",
    "- As well, while rock has older listeners than many other genres, there's a large concentration of young listeners\n",
    "- Jazz, surprisingly, skews young\n",
    "- K pop and Lo Fi, naturally, skew young\n",
    "- Latin listeners are likely outliers\n",
    "- R&B has a big young audience with some older listeners, likely from the 70s i.e. soul"
   ]
  },
  {
   "cell_type": "markdown",
   "id": "66f36181-2b52-45c1-9194-4aa88b986912",
   "metadata": {},
   "source": [
    "# What kind of person listens to Pop music?\n",
    "- I think the question: What kind of person listens to Pop music could be expanded upon with further research. Currently I do not have a great idea as to who listens to Pop as it is a pretty broad genre, but it would be interesting to explore what streaming service is used, this may indicate further explanations such as why Spotify spends more money on adding to their playlists, while Apple Music focuses on radio station, maybe this is because Spotify has more niche listeners while many mainstream, Pop listeners use Apple Music.\n",
    "- This question could also be modified to fit other/more genres if necessary.\n",
    "- To answer other questions that I proposed earlier I would need more data."
   ]
  },
  {
   "cell_type": "markdown",
   "id": "0b6c364e-847a-4217-b651-eeca08e730d6",
   "metadata": {},
   "source": [
    "*****************************************************************************************************************************************"
   ]
  },
  {
   "cell_type": "markdown",
   "id": "433de8ef-dc7f-4876-a96a-6d12e617b2b7",
   "metadata": {},
   "source": [
    "# <center> Milestone 4\n"
   ]
  },
  {
   "cell_type": "code",
   "execution_count": null,
   "id": "0d03575b-4d76-49e8-b2cc-6ba4c3f9eace",
   "metadata": {},
   "outputs": [],
   "source": [
    "import pandas as pd\n",
    "import numpy as np\n",
    "\n",
    "file_path = r\"C:\\Users\\Burkely Theriault\\DATA301\\project-group29\\data\\raw\\mxmh_survey_results.csv\"\n",
    "data = pd.read_csv(file_path)\n"
   ]
  },
  {
   "cell_type": "code",
   "execution_count": null,
   "id": "d792f008-2cb1-4609-8fb1-a541bf735867",
   "metadata": {},
   "outputs": [],
   "source": [
    "data.info()"
   ]
  },
  {
   "cell_type": "code",
   "execution_count": null,
   "id": "7ff482a1-4fb8-48fb-ac7b-1872b20d17a4",
   "metadata": {},
   "outputs": [],
   "source": [
    "\n",
    "\n",
    "\n",
    "data.head()"
   ]
  },
  {
   "cell_type": "code",
   "execution_count": null,
   "id": "08b81ed3-0fef-4fa1-a341-382d5df63dfd",
   "metadata": {},
   "outputs": [],
   "source": [
    "data = data.drop(['8/27/2022 19:29:02'], axis=1)"
   ]
  },
  {
   "cell_type": "code",
   "execution_count": null,
   "id": "51996924-2269-484c-8bda-315305141fd2",
   "metadata": {},
   "outputs": [],
   "source": [
    "data = data.dropna()"
   ]
  },
  {
   "cell_type": "code",
   "execution_count": null,
   "id": "b1c5fe19-a66d-40c6-a290-0c8b9ec9d3ad",
   "metadata": {},
   "outputs": [],
   "source": [
    "print(data.columns)"
   ]
  },
  {
   "cell_type": "code",
   "execution_count": null,
   "id": "9f712978-f671-451f-833a-2852f89675eb",
   "metadata": {},
   "outputs": [],
   "source": [
    "data = pd.read_csv(file_path, header=0)\n",
    "print(data.columns)"
   ]
  },
  {
   "cell_type": "code",
   "execution_count": null,
   "id": "f1f92c76-8054-4407-9c56-2f06ee512fbb",
   "metadata": {},
   "outputs": [],
   "source": [
    "data.head()"
   ]
  },
  {
   "cell_type": "code",
   "execution_count": null,
   "id": "cf9908c7-cca1-45c1-b5c8-93929e4349ad",
   "metadata": {},
   "outputs": [],
   "source": [
    "data = data.drop(['Timestamp'], axis=1)"
   ]
  },
  {
   "cell_type": "code",
   "execution_count": null,
   "id": "cbc80a64-e4aa-48c5-998e-ed2c2416bba4",
   "metadata": {},
   "outputs": [],
   "source": [
    "data.head()"
   ]
  },
  {
   "cell_type": "code",
   "execution_count": null,
   "id": "d277bccf-212f-4c87-bcdb-568d1f793a35",
   "metadata": {},
   "outputs": [],
   "source": [
    "data.head()"
   ]
  },
  {
   "cell_type": "code",
   "execution_count": null,
   "id": "91b10513-2523-4a0a-845f-7773196f24e5",
   "metadata": {},
   "outputs": [],
   "source": [
    "favgenre_col = data.pop('Fav genre')\n",
    "data.insert(0, 'Fav genre', favgenre_col)\n",
    "data.head()"
   ]
  },
  {
   "cell_type": "code",
   "execution_count": null,
   "id": "b1c234a6-5310-4654-b631-029b47a50370",
   "metadata": {},
   "outputs": [],
   "source": [
    "data = data[[col for col in data.columns if \"Frequency\" not in col]]\n",
    "data.head()"
   ]
  },
  {
   "cell_type": "code",
   "execution_count": null,
   "id": "4c45d345-7c25-4495-be3f-bb21eaad1cc1",
   "metadata": {},
   "outputs": [],
   "source": [
    "data.head()\n",
    "\n"
   ]
  },
  {
   "cell_type": "code",
   "execution_count": null,
   "id": "8604a9ed-99a3-4ae6-b10f-a9dd52179b93",
   "metadata": {},
   "outputs": [],
   "source": [
    "print(data.head())"
   ]
  },
  {
   "cell_type": "code",
   "execution_count": null,
   "id": "6c128205-d3ea-4846-bdce-932e0a0d4992",
   "metadata": {},
   "outputs": [],
   "source": [
    "data.head()"
   ]
  },
  {
   "cell_type": "code",
   "execution_count": null,
   "id": "5f59bb5c-f98f-48d1-ade1-02624b4c9fef",
   "metadata": {},
   "outputs": [],
   "source": [
    "data = data.drop('Music effects', axis=1)\n",
    "data = data.drop('Permissions', axis=1)\n"
   ]
  },
  {
   "cell_type": "code",
   "execution_count": null,
   "id": "27344868-7e87-4251-ac25-b4587996af59",
   "metadata": {},
   "outputs": [],
   "source": [
    "data.head()"
   ]
  },
  {
   "cell_type": "code",
   "execution_count": null,
   "id": "7bdc51b9-7e1c-427f-98d7-9bd91a8176ef",
   "metadata": {},
   "outputs": [],
   "source": [
    "data3 = data[data['Fav genre'].str.lower() == 'pop']\n",
    "data3.head()"
   ]
  },
  {
   "cell_type": "code",
   "execution_count": null,
   "id": "1dc9b41b-61b2-4b42-a797-6361f373111f",
   "metadata": {},
   "outputs": [],
   "source": [
    "print(data3)\n"
   ]
  },
  {
   "cell_type": "code",
   "execution_count": null,
   "id": "ffcc57d1-ef86-4c12-bfd6-052509277a00",
   "metadata": {},
   "outputs": [],
   "source": [
    "data3.replace({\"Yes\": 1, \"No\": 2}, inplace=True)\n",
    "print(data3)\n"
   ]
  },
  {
   "cell_type": "markdown",
   "id": "4f4d12ca-3cee-4658-88b1-665aaa8c8a44",
   "metadata": {},
   "source": [
    "### to make yes =1, no =2"
   ]
  },
  {
   "cell_type": "code",
   "execution_count": null,
   "id": "7fd4b370-034c-4ea6-90c2-a8bcf1458d80",
   "metadata": {},
   "outputs": [],
   "source": [
    "data3['Primary streaming service'] = data3['Primary streaming service'].replace({'YouTube Music': 1, 'Apple Music': 2, 'I do not use a streaming service.': 4, 'Spotify': 3})\n"
   ]
  },
  {
   "cell_type": "markdown",
   "id": "66f8dc26-e1fa-406e-8381-fd20951cffe6",
   "metadata": {},
   "source": [
    "### to make youtube =1, apple =2, spotify =3, i do not use streaming services =4"
   ]
  },
  {
   "cell_type": "code",
   "execution_count": null,
   "id": "95e3f09b-5d2d-4f2d-8c97-6f0cc3a31a48",
   "metadata": {},
   "outputs": [],
   "source": [
    "print(data3.head())\n"
   ]
  },
  {
   "cell_type": "code",
   "execution_count": null,
   "id": "c1867c4d-0e19-47bd-baaa-eee3b0aee58e",
   "metadata": {},
   "outputs": [],
   "source": [
    "data3.dropna()"
   ]
  },
  {
   "cell_type": "markdown",
   "id": "b8be8df8-f263-4a7e-b507-a41f46bf8e24",
   "metadata": {},
   "source": [
    "# Task 2 - Method Chaining"
   ]
  },
  {
   "cell_type": "code",
   "execution_count": null,
   "id": "4f40cd43-c139-40f3-921a-6f80269d9dd6",
   "metadata": {},
   "outputs": [],
   "source": [
    "import pandas as pd\n",
    "import numpy as np\n",
    "\n",
    "file_path2 = r\"C:\\Users\\Burkely Theriault\\DATA301\\project-group29\\data\\raw\\mxmh_survey_results.csv\"  \n",
    "\n",
    "df_methodchaining = (\n",
    "    pd.read_csv(file_path2, header=0)\n",
    "    .dropna()\n",
    "    .drop(['Timestamp'], axis=1)\n",
    "    .drop(['Music effects', 'Permissions'], axis=1)\n",
    "    .pipe(lambda x: x.assign(Fav_genre=x.pop('Fav genre')))\n",
    "    .pipe(lambda x: x[[col for col in x.columns if \"Frequency\" not in col]])\n",
    "    .loc[lambda x: x['Fav genre'].str.lower() == 'pop']\n",
    "    .replace({\"Yes\": 1, \"No\": 2})\n",
    "    .assign(Primary_streaming_service=lambda x: x['Primary streaming service'].replace({'YouTube Music': 1, 'Apple Music': 2, 'I do not use a streaming service.': 4, 'Spotify': 3}))\n",
    "    .dropna()\n",
    ")\n"
   ]
  },
  {
   "cell_type": "code",
   "execution_count": null,
   "id": "9603b00d-944f-43c8-9d3b-ecd15365c152",
   "metadata": {},
   "outputs": [],
   "source": [
    "data_methodchaining = pd.read_csv(file_path2, header=0)\n",
    "print(data_methodchaining.columns)"
   ]
  },
  {
   "cell_type": "code",
   "execution_count": null,
   "id": "b840aa1b-7f58-45d2-8c1a-f1d712907990",
   "metadata": {},
   "outputs": [],
   "source": [
    "file_path2 = r\"C:\\Users\\Burkely Theriault\\DATA301\\project-group29\\data\\raw\\mxmh_survey_results.csv\"\n",
    "\n",
    "df_methodchaining = (\n",
    "    pd.read_csv(file_path2, header=0)\n",
    "    .dropna()\n",
    "    .drop(['Timestamp'], axis=1)\n",
    "    .drop(['Music effects', 'Permissions'], axis=1)\n",
    "    .pipe(lambda x: x.assign(Fav_genre=x.pop('Fav genre')))\n",
    "    .pipe(lambda x: x[[col for col in x.columns if \"Frequency\" not in col]])\n",
    ")\n",
    "\n",
    "print(df_methodchaining.columns)"
   ]
  },
  {
   "cell_type": "code",
   "execution_count": null,
   "id": "79719c5e-e598-4c3a-8c16-90090ba8e38a",
   "metadata": {},
   "outputs": [],
   "source": [
    "df_methodchaining = (\n",
    "    df_methodchaining\n",
    "    .loc[lambda x: x['Fav_genre'].str.lower() == 'pop']\n",
    "    .replace({\"Yes\": 1, \"No\": 2})\n",
    "    .assign(Primary_streaming_service=lambda x: x['Primary streaming service'].replace({'YouTube Music': 1, 'Apple Music': 2, 'I do not use a streaming service.': 4, 'Spotify': 3}))\n",
    "    .dropna()\n",
    ")"
   ]
  },
  {
   "cell_type": "code",
   "execution_count": null,
   "id": "b993bcbd-7743-4e13-ae75-3ff213fbaaa6",
   "metadata": {},
   "outputs": [],
   "source": [
    "print(df_methodchaining.head)"
   ]
  },
  {
   "cell_type": "code",
   "execution_count": null,
   "id": "2f96f0e6-20c9-411b-9cad-a5dd7545d56a",
   "metadata": {},
   "outputs": [],
   "source": [
    "df_methodchaining.head()"
   ]
  },
  {
   "cell_type": "code",
   "execution_count": null,
   "id": "eccf09cb-7f23-496e-a704-8abac5b21c49",
   "metadata": {},
   "outputs": [],
   "source": [
    "df_methodchaining = (\n",
    "    df_methodchaining\n",
    "    .loc[lambda x: x['Fav_genre'].str.lower() == 'pop']\n",
    "    .replace({\"Yes\": 1, \"No\": 2})\n",
    "    .assign(Primary_streaming_service=lambda x: x['Primary streaming service'].replace({'YouTube Music': 1, 'Apple Music': 2, 'I do not use a streaming service.': 4, 'Spotify': 3}))\n",
    "    .dropna()\n",
    "    .drop('Primary streaming service', axis=1)\n",
    "    .assign(Age=df_methodchaining.pop('Age'))  \n",
    ")"
   ]
  },
  {
   "cell_type": "code",
   "execution_count": null,
   "id": "3095a24d-1a4d-42bd-9ef0-711d7ab3675b",
   "metadata": {},
   "outputs": [],
   "source": [
    "df_methodchaining.head()"
   ]
  },
  {
   "cell_type": "code",
   "execution_count": null,
   "id": "e1d7e244-af7a-4cc4-8173-fce40538d852",
   "metadata": {},
   "outputs": [],
   "source": [
    "\n"
   ]
  },
  {
   "cell_type": "code",
   "execution_count": null,
   "id": "677e70d0-fe22-4eb5-9776-08cb97d9635e",
   "metadata": {},
   "outputs": [],
   "source": [
    "print(df_methodchaining.columns)\n"
   ]
  },
  {
   "cell_type": "code",
   "execution_count": null,
   "id": "d7f9fbe0-9ef4-4d3a-90dd-fb080067cf1f",
   "metadata": {},
   "outputs": [],
   "source": [
    "print(df_methodchaining.head())"
   ]
  },
  {
   "cell_type": "code",
   "execution_count": null,
   "id": "dcdd4995-9c72-45d1-9472-6dee0cf591bb",
   "metadata": {},
   "outputs": [],
   "source": [
    "import pandas as pd\n",
    "\n",
    "def process_dataframe(df):\n",
    "    if 'Primary streaming service' not in df.columns:\n",
    "        print(\"Primary streaming service column is missing.\")\n",
    "        return None\n",
    "    return (\n",
    "        df\n",
    "        .loc[lambda x: x['Fav genre'].str.lower() == 'pop']\n",
    "        .replace({\"Yes\": 1, \"No\": 2})\n",
    "        .assign(Primary_streaming_service=lambda x: x['Primary streaming service'].replace({'YouTube Music': 1, 'Apple Music': 2, 'I do not use a streaming service.': 4, 'Spotify': 3}))\n",
    "        .dropna()\n",
    "        .astype({'Age': 'float64'})\n",
    "    )\n",
    "\n",
    "csv_file_path = r\"C:\\Users\\Burkely Theriault\\DATA301\\project-group29\\data\\raw\\mxmh_survey_results.csv\"\n",
    "df = pd.read_csv(csv_file_path)\n",
    "\n",
    "processed_df = process_dataframe(df)\n",
    "print(processed_df)\n"
   ]
  },
  {
   "cell_type": "code",
   "execution_count": null,
   "id": "3a525e45-905c-426e-9cc8-ab49aca871d4",
   "metadata": {},
   "outputs": [],
   "source": [
    "import pandas as pd\n",
    "\n",
    "df = pd.read_csv(r\"C:\\Users\\Burkely Theriault\\DATA301\\project-group29\\data\\raw\\mxmh_survey_results.csv\")\n",
    "\n",
    "processed_df = (\n",
    "    df\n",
    "    .loc[lambda x: x['Fav genre'].str.lower() == 'pop']\n",
    "    .replace({\"Yes\": 1, \"No\": 2})\n",
    "    .assign(Primary_streaming_service=lambda x: x['Primary streaming service'].replace({'YouTube Music': 1, 'Apple Music': 2, 'I do not use a streaming service.': 4, 'Spotify': 3}))\n",
    "    .dropna(subset=['Primary_streaming_service'])\n",
    "    [['Age', 'Hours per day', 'While working', 'Instrumentalist', 'Composer', 'Exploratory', 'Foreign languages', 'BPM', 'Anxiety', 'Depression', 'Insomnia', 'OCD', 'Fav genre', 'Primary_streaming_service']]\n",
    "    .dropna()\n",
    ")\n",
    "\n",
    "print(processed_df)\n"
   ]
  },
  {
   "cell_type": "code",
   "execution_count": null,
   "id": "e2a7be4b-2ea1-4e68-92d3-648d1bc88b84",
   "metadata": {},
   "outputs": [],
   "source": [
    "processed_df"
   ]
  },
  {
   "cell_type": "code",
   "execution_count": null,
   "id": "11043f3c-bd46-47c9-bca4-784f4e248407",
   "metadata": {},
   "outputs": [],
   "source": [
    "from .project_functions3 import load_and_process\n",
    "\n",
    "\n",
    "\n",
    "df = load_and_process(r'C:\\Users\\Burkely Theriault\\DATA301\\project-group29\\data\\raw\\mxmh_survey_results.csv')\n",
    "\n",
    "\n",
    "print(df.head())\n",
    "\n"
   ]
  },
  {
   "cell_type": "code",
   "execution_count": null,
   "id": "f4604982-817e-4b7f-b80b-014f11389339",
   "metadata": {},
   "outputs": [],
   "source": [
    "import sys\n",
    "sys.path.append('path/to/parent/directory')\n",
    "\n",
    "from Project_functions.project_functions3 import load_and_process\n",
    "\n",
    "df = load_and_process('path/to/data.csv')\n",
    "print(df.head())\n"
   ]
  },
  {
   "cell_type": "code",
   "execution_count": null,
   "id": "a6fc6e79-84e0-4dc5-b8ac-659d990a9f5b",
   "metadata": {},
   "outputs": [],
   "source": [
    "import sys\n",
    "sys.path.append('..')"
   ]
  },
  {
   "cell_type": "code",
   "execution_count": null,
   "id": "aa8a52ec-fe97-40d0-aefc-ac1d5bff0c41",
   "metadata": {},
   "outputs": [],
   "source": [
    "from scripts import project_functions3 as pt"
   ]
  },
  {
   "cell_type": "code",
   "execution_count": null,
   "id": "882ca054-cbc4-4641-92b8-06cdc32b19dc",
   "metadata": {},
   "outputs": [],
   "source": [
    "from .. import project_functions \n",
    "df = project_functions.load_and_process(r\"C:\\Users\\Burkely Theriault\\DATA301\\project-group29\\data\\raw\\mxmh_survey_results.csv\")\n",
    "df"
   ]
  },
  {
   "cell_type": "code",
   "execution_count": null,
   "id": "439b9b41-af4e-428e-929c-d4692171ecee",
   "metadata": {},
   "outputs": [],
   "source": []
  },
  {
   "cell_type": "code",
   "execution_count": null,
   "id": "43499c96-e09f-44a9-a17c-b749b4fccf49",
   "metadata": {},
   "outputs": [],
   "source": []
  },
  {
   "cell_type": "code",
   "execution_count": null,
   "id": "37d14eb9-5a9a-46f5-9612-d90797f64707",
   "metadata": {},
   "outputs": [],
   "source": []
  }
 ],
 "metadata": {
  "kernelspec": {
   "display_name": "Python 3 (ipykernel)",
   "language": "python",
   "name": "python3"
  },
  "language_info": {
   "codemirror_mode": {
    "name": "ipython",
    "version": 3
   },
   "file_extension": ".py",
   "mimetype": "text/x-python",
   "name": "python",
   "nbconvert_exporter": "python",
   "pygments_lexer": "ipython3",
   "version": "3.10.8"
  }
 },
 "nbformat": 4,
 "nbformat_minor": 5
}
